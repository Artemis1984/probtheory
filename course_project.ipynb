{
 "cells": [
  {
   "cell_type": "code",
   "execution_count": 1,
   "metadata": {},
   "outputs": [],
   "source": [
    "import numpy as np\n",
    "import pandas as pd\n",
    "from sklearn.ensemble import RandomForestRegressor as RFR\n",
    "from sklearn.model_selection import train_test_split\n",
    "from sklearn.metrics import r2_score as r2\n",
    "from collections import deque\n",
    "import warnings\n",
    "warnings.filterwarnings('ignore')"
   ]
  },
  {
   "cell_type": "code",
   "execution_count": 2,
   "metadata": {},
   "outputs": [],
   "source": [
    "train = pd.read_csv('train.csv')\n",
    "train_copy = train.copy()"
   ]
  },
  {
   "cell_type": "code",
   "execution_count": 3,
   "metadata": {},
   "outputs": [],
   "source": [
    "def Correct_Square(train_copy):\n",
    "    \n",
    "    \n",
    "    \n",
    "    null_list = train_copy.loc[train_copy.LifeSquare.isnull()].index   \n",
    "   \n",
    "    for i in null_list:\n",
    "        \n",
    "        train_copy.loc[i, 'LifeSquare'] = train_copy.loc[i]['Square'] - (train_copy.loc[i]['Square'] / 100 * 15) - \\\n",
    "                                        train_copy.loc[i]['KitchenSquare']\n",
    "                                            \n",
    "    ID_List = train_copy.loc[train_copy['LifeSquare'] > train_copy['Square']].index\n",
    "    for i in ID_List:\n",
    "        temp = train_copy.loc[i]['LifeSquare']\n",
    "        train_copy.loc[i, 'LifeSquare'] = train_copy.loc[i]['Square']\n",
    "        train_copy.loc[i, 'Square'] = temp\n",
    "    \n",
    "    \n",
    "    indexoid = train_copy.loc[train_copy.Square - train_copy.LifeSquare > train_copy.LifeSquare * 2].index\n",
    "    \n",
    "    for i in indexoid:\n",
    "        \n",
    "        train_copy.loc[i, 'LifeSquare'] = train_copy.loc[i]['Square'] - (train_copy.loc[i]['Square'] / 100 * 20) \n",
    "            \n",
    "            \n",
    "            "
   ]
  },
  {
   "cell_type": "code",
   "execution_count": 4,
   "metadata": {},
   "outputs": [],
   "source": [
    "def Correct_floors(train_copy):\n",
    "    ID_List = []\n",
    "    ID_List.extend(train_copy.loc[train_copy['Floor'] > train_copy['HouseFloor']].index)\n",
    "    for i in ID_List:\n",
    "        temp = train_copy.loc[i]['Floor']\n",
    "        train_copy.loc[i, 'Floor'] = train_copy.loc[i]['HouseFloor']\n",
    "        train_copy.loc[i, 'HouseFloor'] = temp\n"
   ]
  },
  {
   "cell_type": "code",
   "execution_count": 5,
   "metadata": {},
   "outputs": [],
   "source": [
    "def Correct_other(train_copy):\n",
    "    train_copy.loc[train_copy['HouseYear'] > 2019, 'HouseYear'] = train_copy['HouseYear'].median()    \n",
    "    train_copy.loc[train_copy.KitchenSquare > train_copy.Square, 'KitchenSquare'] = train_copy.loc[train_copy.KitchenSquare > train_copy.Square]['Square'] - train_copy.loc[train_copy.KitchenSquare > train_copy.Square]['LifeSquare']\n",
    "    train_copy.loc[train_copy.HouseFloor > 50, 'HouseFloor'] = train_copy.loc[train_copy.HouseFloor > 50]['Floor'].median() + 10\n",
    "    train_copy.loc[(train_copy.Rooms > 5) & (train_copy.loc[train_copy.Rooms > 5]['Square'] < train_copy.loc[train_copy.Rooms == 5]['Square'].mean()), 'Rooms'] = train_copy.loc[train_copy.Rooms]['Rooms'].median() \n",
    "    train_copy.loc[train_copy.Square > (train_copy.loc[train_copy.Rooms, 'Square'].mean() + 100), 'Square'] = train_copy.loc[train_copy.Rooms]['Square'].mean()\n",
    "    train_copy.drop('Healthcare_1', axis=1, inplace=True)"
   ]
  },
  {
   "cell_type": "code",
   "execution_count": 6,
   "metadata": {},
   "outputs": [],
   "source": [
    "features = ['Id', 'DistrictId', 'Rooms', 'Square', 'LifeSquare', 'KitchenSquare',\n",
    "       'Floor', 'HouseFloor', 'HouseYear', 'Ecology_1', 'Social_1', 'Social_2', 'Social_3', 'Helthcare_2',\n",
    "       'Shops_1']\n",
    "target = ['Price']"
   ]
  },
  {
   "cell_type": "code",
   "execution_count": 7,
   "metadata": {},
   "outputs": [],
   "source": [
    "\n",
    "def prepare_features(train_copy):\n",
    "     \n",
    "    Correct_floors(train_copy)\n",
    "    Correct_other(train_copy)\n",
    "    Correct_Square(train_copy)\n",
    "    "
   ]
  },
  {
   "cell_type": "code",
   "execution_count": 8,
   "metadata": {},
   "outputs": [],
   "source": [
    "prepare_features(train_copy)"
   ]
  },
  {
   "cell_type": "code",
   "execution_count": 10,
   "metadata": {},
   "outputs": [],
   "source": [
    "X_train, X_valid, y_train, y_valid = train_test_split(train_copy[features], train_copy[target], \\\n",
    "                                                      test_size=0.3, random_state=42)"
   ]
  },
  {
   "cell_type": "code",
   "execution_count": 11,
   "metadata": {},
   "outputs": [
    {
     "name": "stdout",
     "output_type": "stream",
     "text": [
      "Валидационный 0.6526661414871289 тренировочный 0.8767731102769598\n"
     ]
    }
   ],
   "source": [
    "model = RFR(n_estimators=5, max_depth=12, random_state=42)\n",
    "model.fit(X_train, y_train)\n",
    "y_pred_train = model.predict(X_train)\n",
    "y_pred = model.predict(X_valid)\n",
    "print('Валидационный',r2(y_valid, y_pred),'тренировочный', r2(y_train, y_pred_train))"
   ]
  },
  {
   "cell_type": "code",
   "execution_count": 12,
   "metadata": {},
   "outputs": [],
   "source": [
    "def Testing_models():\n",
    "    \n",
    "    r2_value = 0\n",
    "    estimator = 0\n",
    "    depth = 0\n",
    "    \n",
    "    for n_estimators in range(1, 16):\n",
    "        for max_depth in range(1, 25, 2):\n",
    "            model = RFR(n_estimators=n_estimators, max_depth=max_depth, random_state=42)\n",
    "            model.fit(X_train, y_train)\n",
    "            y_pred = model.predict(X_valid)\n",
    "            if r2_value < r2(y_valid, y_pred):\n",
    "                r2_value = r2(y_valid, y_pred)\n",
    "                estimator = n_estimators\n",
    "                depth = max_depth\n",
    "           \n",
    "    \n",
    "    return estimator, depth, r2_value"
   ]
  },
  {
   "cell_type": "code",
   "execution_count": 13,
   "metadata": {},
   "outputs": [],
   "source": [
    "def Testing_models_extended(X_train, X_valid, y_train, y_valid):\n",
    "    \n",
    "    r2_value = 0\n",
    "    estimator = 0\n",
    "    depth = 0\n",
    "    \n",
    "    for n_estimators in range(1, 16):\n",
    "        for max_depth in range(1, 25, 2):\n",
    "            model = RFR(n_estimators=n_estimators, max_depth=max_depth, random_state=42)\n",
    "            model.fit(X_train, y_train)\n",
    "            y_pred = model.predict(X_valid)\n",
    "            if r2_value < r2(y_valid, y_pred):\n",
    "                r2_value = r2(y_valid, y_pred)\n",
    "                estimator = n_estimators\n",
    "                depth = max_depth\n",
    "    \n",
    "    \n",
    "    \n",
    "    return estimator, depth, r2_value"
   ]
  },
  {
   "cell_type": "code",
   "execution_count": 14,
   "metadata": {},
   "outputs": [
    {
     "data": {
      "text/plain": [
       "(14, 15, 0.6884433979092972)"
      ]
     },
     "execution_count": 14,
     "metadata": {},
     "output_type": "execute_result"
    }
   ],
   "source": [
    "n_estimator, max_depth, r2_value = Testing_models()\n",
    "n_estimator, max_depth, r2_value"
   ]
  },
  {
   "cell_type": "code",
   "execution_count": 15,
   "metadata": {},
   "outputs": [],
   "source": [
    "best_r2_yet = r2_value"
   ]
  },
  {
   "cell_type": "code",
   "execution_count": 16,
   "metadata": {},
   "outputs": [],
   "source": [
    "final_model = RFR(n_estimators=n_estimator, max_depth=max_depth, random_state=42)"
   ]
  },
  {
   "cell_type": "code",
   "execution_count": 17,
   "metadata": {},
   "outputs": [],
   "source": [
    "\n",
    "def Testing_features(features, best_r2_yet):\n",
    "    \n",
    "    test_features = deque()\n",
    "\n",
    "    flag = True\n",
    "    r2_best = 0\n",
    "    test_features = deque(features.copy())\n",
    "    del_list = []\n",
    "    must_del_feat = None\n",
    "    best_r2_yet = best_r2_yet\n",
    "    \n",
    "    while flag:\n",
    "        \n",
    "        for i in range(len(test_features)):\n",
    "            \n",
    "            del_list.append(test_features.pop())\n",
    "            \n",
    "            final_model.fit(X_train[test_features], y_train)\n",
    "            y_pred = final_model.predict(X_valid[test_features])\n",
    "            \n",
    "            if r2_best < r2(y_valid, y_pred):\n",
    "                \n",
    "                r2_best = r2(y_valid, y_pred)\n",
    "                \n",
    "                must_del_feat = del_list[0]\n",
    "                \n",
    "            test_features.appendleft(del_list.pop())\n",
    "        \n",
    "        if best_r2_yet < r2_best:\n",
    "            \n",
    "            best_r2_yet = r2_best\n",
    "            test_features.remove(must_del_feat)\n",
    "            \n",
    "        else:\n",
    "            flag = False\n",
    "                \n",
    "    \n",
    "    \n",
    "    return test_features, best_r2_yet"
   ]
  },
  {
   "cell_type": "code",
   "execution_count": 18,
   "metadata": {},
   "outputs": [
    {
     "data": {
      "text/plain": [
       "(deque(['Id',\n",
       "        'DistrictId',\n",
       "        'Square',\n",
       "        'LifeSquare',\n",
       "        'KitchenSquare',\n",
       "        'Floor',\n",
       "        'HouseFloor',\n",
       "        'HouseYear',\n",
       "        'Ecology_1',\n",
       "        'Social_1',\n",
       "        'Social_2',\n",
       "        'Social_3',\n",
       "        'Helthcare_2',\n",
       "        'Shops_1']),\n",
       " 0.6962415265935711)"
      ]
     },
     "execution_count": 18,
     "metadata": {},
     "output_type": "execute_result"
    }
   ],
   "source": [
    "\n",
    "Testing_features(features, best_r2_yet)\n"
   ]
  },
  {
   "cell_type": "code",
   "execution_count": 19,
   "metadata": {},
   "outputs": [],
   "source": [
    "all_feattures = train_copy[train_copy.columns[:-1]].copy()"
   ]
  },
  {
   "cell_type": "code",
   "execution_count": 20,
   "metadata": {},
   "outputs": [],
   "source": [
    "all_feattures = pd.get_dummies(all_feattures)"
   ]
  },
  {
   "cell_type": "code",
   "execution_count": 21,
   "metadata": {},
   "outputs": [],
   "source": [
    "all_X_train, all_X_valid, all_y_train, all_y_valid = train_test_split(all_feattures, train_copy['Price'], \\\n",
    "                                                      test_size=0.3, random_state=42)\n",
    "\n",
    "all_feat_model = RFR(n_estimators=n_estimator, max_depth=max_depth, random_state=42)"
   ]
  },
  {
   "cell_type": "code",
   "execution_count": 22,
   "metadata": {},
   "outputs": [
    {
     "data": {
      "text/plain": [
       "RandomForestRegressor(bootstrap=True, criterion='mse', max_depth=15,\n",
       "                      max_features='auto', max_leaf_nodes=None,\n",
       "                      min_impurity_decrease=0.0, min_impurity_split=None,\n",
       "                      min_samples_leaf=1, min_samples_split=2,\n",
       "                      min_weight_fraction_leaf=0.0, n_estimators=14,\n",
       "                      n_jobs=None, oob_score=False, random_state=42, verbose=0,\n",
       "                      warm_start=False)"
      ]
     },
     "execution_count": 22,
     "metadata": {},
     "output_type": "execute_result"
    }
   ],
   "source": [
    "all_feat_model.fit(all_X_train, all_y_train)"
   ]
  },
  {
   "cell_type": "code",
   "execution_count": 23,
   "metadata": {},
   "outputs": [
    {
     "data": {
      "text/plain": [
       "0.6840998774097546"
      ]
     },
     "execution_count": 23,
     "metadata": {},
     "output_type": "execute_result"
    }
   ],
   "source": [
    "all_y_predict = all_feat_model.predict(all_X_valid)\n",
    "all_r2_best_yet = r2(all_y_valid, all_y_predict)\n",
    "all_r2_best_yet"
   ]
  },
  {
   "cell_type": "code",
   "execution_count": 24,
   "metadata": {},
   "outputs": [],
   "source": [
    "def Test_all_feats(features, best_r2_yet):\n",
    "    flag = True\n",
    "    r2_best = best_r2_yet\n",
    "    test_features = deque(features.copy())\n",
    "    del_list = []\n",
    "    must_del_feat = None\n",
    "    final_list = []\n",
    "    best_model = None\n",
    "    \n",
    "    \n",
    "    while flag:\n",
    "        \n",
    "        for i in range(len(test_features)):\n",
    "            \n",
    "            \n",
    "            del_list.append(test_features.pop())\n",
    "            \n",
    "            all_X_train, all_X_valid, all_y_train, all_y_valid = train_test_split(all_feattures[test_features], train_copy[target], \\\n",
    "                                                      test_size=0.3, random_state=42)\n",
    "\n",
    "            all_feat_model = RFR(n_estimators=n_estimator, max_depth=max_depth, random_state=42)\n",
    "    \n",
    "            \n",
    "            \n",
    "            all_feat_model.fit(all_X_train, all_y_train)\n",
    "            \n",
    "            y_pred = all_feat_model.predict(all_X_valid)\n",
    "    \n",
    "    \n",
    "    \n",
    "            \n",
    "            if r2_best < r2(all_y_valid, y_pred):\n",
    "                \n",
    "                r2_best = r2(all_y_valid, y_pred)\n",
    "                \n",
    "                must_del_feat = del_list[0]\n",
    "                \n",
    "                best_model = all_feat_model\n",
    "                \n",
    "                print(r2(all_y_valid, y_pred))\n",
    "                print(len(test_features))\n",
    "                print(test_features)\n",
    "                \n",
    "                final_list = test_features.copy()\n",
    "                print()\n",
    "                \n",
    "            test_features.appendleft(del_list.pop())\n",
    "        \n",
    "        if best_r2_yet < r2_best:\n",
    "            \n",
    "            best_r2_yet = r2_best\n",
    "            test_features.remove(must_del_feat)\n",
    "                \n",
    "            \n",
    "        else:\n",
    "            flag = False\n",
    "                \n",
    "\n",
    "    \n",
    "    return final_list, best_r2_yet, len(test_features), best_model"
   ]
  },
  {
   "cell_type": "code",
   "execution_count": 25,
   "metadata": {},
   "outputs": [
    {
     "name": "stdout",
     "output_type": "stream",
     "text": [
      "0.6872452667439818\n",
      "20\n",
      "deque(['Id', 'DistrictId', 'Rooms', 'Square', 'LifeSquare', 'KitchenSquare', 'Floor', 'HouseFloor', 'HouseYear', 'Ecology_1', 'Social_1', 'Social_2', 'Social_3', 'Helthcare_2', 'Shops_1', 'Ecology_2_A', 'Ecology_2_B', 'Ecology_3_A', 'Ecology_3_B', 'Shops_2_A'])\n",
      "\n",
      "0.6881746050643033\n",
      "20\n",
      "deque(['Ecology_3_B', 'Shops_2_A', 'Shops_2_B', 'Id', 'DistrictId', 'Rooms', 'Square', 'LifeSquare', 'KitchenSquare', 'Floor', 'HouseFloor', 'HouseYear', 'Ecology_1', 'Social_1', 'Social_2', 'Social_3', 'Helthcare_2', 'Shops_1', 'Ecology_2_A', 'Ecology_2_B'])\n",
      "\n",
      "0.6908803649692263\n",
      "20\n",
      "deque(['Social_3', 'Helthcare_2', 'Shops_1', 'Ecology_2_A', 'Ecology_2_B', 'Ecology_3_A', 'Ecology_3_B', 'Shops_2_A', 'Shops_2_B', 'Id', 'DistrictId', 'Rooms', 'Square', 'LifeSquare', 'KitchenSquare', 'Floor', 'HouseFloor', 'HouseYear', 'Ecology_1', 'Social_1'])\n",
      "\n",
      "0.6919369263324949\n",
      "20\n",
      "deque(['Social_2', 'Social_3', 'Helthcare_2', 'Shops_1', 'Ecology_2_A', 'Ecology_2_B', 'Ecology_3_A', 'Ecology_3_B', 'Shops_2_A', 'Shops_2_B', 'Id', 'DistrictId', 'Rooms', 'Square', 'LifeSquare', 'KitchenSquare', 'Floor', 'HouseFloor', 'HouseYear', 'Ecology_1'])\n",
      "\n",
      "0.6920778719175725\n",
      "19\n",
      "deque(['Ecology_3_A', 'Ecology_3_B', 'Shops_2_A', 'Shops_2_B', 'Id', 'DistrictId', 'Rooms', 'Square', 'LifeSquare', 'KitchenSquare', 'Floor', 'HouseFloor', 'HouseYear', 'Ecology_1', 'Social_2', 'Social_3', 'Helthcare_2', 'Shops_1', 'Ecology_2_A'])\n",
      "\n",
      "0.6997339444473869\n",
      "19\n",
      "deque(['Social_3', 'Helthcare_2', 'Shops_1', 'Ecology_2_A', 'Ecology_2_B', 'Ecology_3_A', 'Ecology_3_B', 'Shops_2_A', 'Shops_2_B', 'Id', 'DistrictId', 'Rooms', 'Square', 'LifeSquare', 'KitchenSquare', 'Floor', 'HouseFloor', 'HouseYear', 'Ecology_1'])\n",
      "\n",
      "0.7014938596846625\n",
      "18\n",
      "deque(['Id', 'DistrictId', 'Rooms', 'Square', 'LifeSquare', 'KitchenSquare', 'Floor', 'HouseFloor', 'HouseYear', 'Ecology_1', 'Social_3', 'Helthcare_2', 'Shops_1', 'Ecology_2_A', 'Ecology_2_B', 'Ecology_3_A', 'Ecology_3_B', 'Shops_2_A'])\n",
      "\n",
      "0.701714252651724\n",
      "18\n",
      "deque(['Shops_2_A', 'Shops_2_B', 'Id', 'DistrictId', 'Rooms', 'Square', 'LifeSquare', 'KitchenSquare', 'Floor', 'HouseFloor', 'HouseYear', 'Ecology_1', 'Social_3', 'Helthcare_2', 'Shops_1', 'Ecology_2_A', 'Ecology_2_B', 'Ecology_3_A'])\n",
      "\n",
      "0.7021750059694554\n",
      "18\n",
      "deque(['Ecology_2_A', 'Ecology_2_B', 'Ecology_3_A', 'Ecology_3_B', 'Shops_2_A', 'Shops_2_B', 'Id', 'DistrictId', 'Rooms', 'Square', 'LifeSquare', 'KitchenSquare', 'Floor', 'HouseFloor', 'HouseYear', 'Ecology_1', 'Social_3', 'Helthcare_2'])\n",
      "\n",
      "0.7059452547197591\n",
      "18\n",
      "deque(['Floor', 'HouseFloor', 'HouseYear', 'Ecology_1', 'Social_3', 'Helthcare_2', 'Shops_1', 'Ecology_2_A', 'Ecology_2_B', 'Ecology_3_A', 'Ecology_3_B', 'Shops_2_A', 'Shops_2_B', 'Id', 'DistrictId', 'Rooms', 'Square', 'LifeSquare'])\n",
      "\n",
      "0.7080434657018997\n",
      "17\n",
      "deque(['Shops_2_B', 'Id', 'DistrictId', 'Rooms', 'Square', 'LifeSquare', 'Floor', 'HouseFloor', 'HouseYear', 'Ecology_1', 'Social_3', 'Helthcare_2', 'Shops_1', 'Ecology_2_A', 'Ecology_2_B', 'Ecology_3_A', 'Ecology_3_B'])\n",
      "\n",
      "0.7097868478816439\n",
      "17\n",
      "deque(['DistrictId', 'Rooms', 'Square', 'LifeSquare', 'Floor', 'HouseFloor', 'HouseYear', 'Ecology_1', 'Social_3', 'Helthcare_2', 'Shops_1', 'Ecology_2_A', 'Ecology_2_B', 'Ecology_3_A', 'Ecology_3_B', 'Shops_2_A', 'Shops_2_B'])\n",
      "\n",
      "0.7111682458866442\n",
      "16\n",
      "deque(['Shops_2_B', 'DistrictId', 'Rooms', 'Square', 'LifeSquare', 'Floor', 'HouseFloor', 'HouseYear', 'Ecology_1', 'Social_3', 'Helthcare_2', 'Shops_1', 'Ecology_2_A', 'Ecology_2_B', 'Ecology_3_A', 'Ecology_3_B'])\n",
      "\n",
      "0.7115614241222763\n",
      "16\n",
      "deque(['Ecology_3_A', 'Ecology_3_B', 'Shops_2_A', 'Shops_2_B', 'DistrictId', 'Rooms', 'Square', 'LifeSquare', 'Floor', 'HouseFloor', 'HouseYear', 'Ecology_1', 'Social_3', 'Helthcare_2', 'Shops_1', 'Ecology_2_A'])\n",
      "\n",
      "0.7116217269897094\n",
      "16\n",
      "deque(['Floor', 'HouseFloor', 'HouseYear', 'Ecology_1', 'Social_3', 'Helthcare_2', 'Shops_1', 'Ecology_2_A', 'Ecology_2_B', 'Ecology_3_A', 'Ecology_3_B', 'Shops_2_A', 'Shops_2_B', 'DistrictId', 'Rooms', 'Square'])\n",
      "\n",
      "0.7125289941097892\n",
      "15\n",
      "deque(['DistrictId', 'Rooms', 'Square', 'Floor', 'HouseFloor', 'HouseYear', 'Ecology_1', 'Social_3', 'Helthcare_2', 'Shops_1', 'Ecology_2_A', 'Ecology_2_B', 'Ecology_3_A', 'Ecology_3_B', 'Shops_2_A'])\n",
      "\n",
      "0.7131743537727336\n",
      "15\n",
      "deque(['Shops_2_B', 'DistrictId', 'Rooms', 'Square', 'Floor', 'HouseFloor', 'HouseYear', 'Ecology_1', 'Social_3', 'Helthcare_2', 'Shops_1', 'Ecology_2_A', 'Ecology_2_B', 'Ecology_3_A', 'Ecology_3_B'])\n",
      "\n",
      "0.7137236006780472\n",
      "15\n",
      "deque(['Shops_2_A', 'Shops_2_B', 'DistrictId', 'Rooms', 'Square', 'Floor', 'HouseFloor', 'HouseYear', 'Ecology_1', 'Social_3', 'Helthcare_2', 'Shops_1', 'Ecology_2_A', 'Ecology_2_B', 'Ecology_3_A'])\n",
      "\n",
      "0.7146420207942064\n",
      "15\n",
      "deque(['Ecology_3_B', 'Shops_2_A', 'Shops_2_B', 'DistrictId', 'Rooms', 'Square', 'Floor', 'HouseFloor', 'HouseYear', 'Ecology_1', 'Social_3', 'Helthcare_2', 'Shops_1', 'Ecology_2_A', 'Ecology_2_B'])\n",
      "\n",
      "0.7147526778787967\n",
      "15\n",
      "deque(['HouseFloor', 'HouseYear', 'Ecology_1', 'Social_3', 'Helthcare_2', 'Shops_1', 'Ecology_2_A', 'Ecology_2_B', 'Ecology_3_A', 'Ecology_3_B', 'Shops_2_A', 'Shops_2_B', 'DistrictId', 'Rooms', 'Square'])\n",
      "\n",
      "0.7181335753941573\n",
      "14\n",
      "deque(['DistrictId', 'Rooms', 'Square', 'HouseFloor', 'HouseYear', 'Ecology_1', 'Social_3', 'Helthcare_2', 'Shops_1', 'Ecology_2_A', 'Ecology_2_B', 'Ecology_3_A', 'Ecology_3_B', 'Shops_2_A'])\n",
      "\n",
      "0.7194724360518145\n",
      "14\n",
      "deque(['Ecology_3_B', 'Shops_2_A', 'Shops_2_B', 'DistrictId', 'Rooms', 'Square', 'HouseFloor', 'HouseYear', 'Ecology_1', 'Social_3', 'Helthcare_2', 'Shops_1', 'Ecology_2_A', 'Ecology_2_B'])\n",
      "\n"
     ]
    },
    {
     "data": {
      "text/plain": [
       "deque(['Ecology_3_B',\n",
       "       'Shops_2_A',\n",
       "       'Shops_2_B',\n",
       "       'DistrictId',\n",
       "       'Rooms',\n",
       "       'Square',\n",
       "       'HouseFloor',\n",
       "       'HouseYear',\n",
       "       'Ecology_1',\n",
       "       'Social_3',\n",
       "       'Helthcare_2',\n",
       "       'Shops_1',\n",
       "       'Ecology_2_A',\n",
       "       'Ecology_2_B'])"
      ]
     },
     "execution_count": 25,
     "metadata": {},
     "output_type": "execute_result"
    }
   ],
   "source": [
    "optimal_features, R2_score_, feat_list_len, best_model = Test_all_feats(all_feattures, all_r2_best_yet)\n",
    "optimal_features"
   ]
  },
  {
   "cell_type": "code",
   "execution_count": 31,
   "metadata": {},
   "outputs": [
    {
     "data": {
      "text/plain": [
       "(0.7194724360518145, 14)"
      ]
     },
     "execution_count": 31,
     "metadata": {},
     "output_type": "execute_result"
    }
   ],
   "source": [
    "R2_score_, feat_list_len\n"
   ]
  },
  {
   "cell_type": "markdown",
   "metadata": {},
   "source": [
    "#### По сути здесь идет работа по оптимизации, какие признаки оставить для предсказания, сколько деревьев надо применить в RFR для оптимального предсказания итп. Также идет работа по выбросам."
   ]
  }
 ],
 "metadata": {
  "kernelspec": {
   "display_name": "Python 3",
   "language": "python",
   "name": "python3"
  },
  "language_info": {
   "codemirror_mode": {
    "name": "ipython",
    "version": 3
   },
   "file_extension": ".py",
   "mimetype": "text/x-python",
   "name": "python",
   "nbconvert_exporter": "python",
   "pygments_lexer": "ipython3",
   "version": "3.7.3"
  }
 },
 "nbformat": 4,
 "nbformat_minor": 2
}
