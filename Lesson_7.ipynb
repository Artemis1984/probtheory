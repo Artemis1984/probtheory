{
 "cells": [
  {
   "cell_type": "code",
   "execution_count": 141,
   "metadata": {},
   "outputs": [],
   "source": [
    "import numpy as np\n",
    "import matplotlib.pyplot as plt\n",
    "import scipy.stats\n",
    "import pandas as pd"
   ]
  },
  {
   "cell_type": "markdown",
   "metadata": {},
   "source": [
    "### Задача 1\n",
    "\n",
    "Даны значения величины заработной платы заемщиков банка (salary) и значения их поведенческого кредитного скоринга (scoring):\n",
    "\n",
    "salary = [35, 45, 190, 200, 40, 70, 54, 150, 120, 110]\n",
    "scoring = [401, 574, 874, 919, 459, 739, 653, 902, 746, 832]\n",
    "\n",
    "Возьмём в качестве признака значение salary, а в качестве целевой переменной - scoring.\n",
    "1. Найдите коэффициенты линейной регрессии с помощью формул для парной регрессии, а затем с помощью метода наименьших квадратов.\n",
    "2. Постройте scatter plot по данным и отметьте на нём прямую линейной регрессии, полученную в п. 1.\n",
    "3. Посчитайте коэффициент детерминации, среднюю ошибку аппроксимации.\n",
    "4. Оцените построенное уравнение регрессии с помощью F-критерия Фишера.\n",
    "5. Постройте для коэффициентов регрессии доверительные интервалы с помощью t-статистики Стьюдента."
   ]
  },
  {
   "cell_type": "markdown",
   "metadata": {},
   "source": [
    "### 1."
   ]
  },
  {
   "cell_type": "code",
   "execution_count": 63,
   "metadata": {},
   "outputs": [
    {
     "name": "stdout",
     "output_type": "stream",
     "text": [
      "Коэффициенты по формуле МНК: b1 - 2.6205388824027684 b0 - 444.17735732435915\n",
      "Коэффициенты по формуле парной регрессии: b1 - 2.620538882402765 b0 - 444.1773573243596\n"
     ]
    }
   ],
   "source": [
    "X = np.array([35, 45, 190, 200, 40, 70, 54, 150, 120, 110])\n",
    "Y = np.array([401, 574, 874, 919, 459, 739, 653, 902, 746, 832])\n",
    "b1 = ((X * Y).mean() - X.mean() * Y.mean()) / ((X**2).mean() - (X.mean()**2))\n",
    "b0 = Y.mean() - b1 * X.mean()\n",
    "\n",
    "ones = np.ones((X.shape[0], 1))\n",
    "X1 = np.hstack((ones, X.reshape(-1, 1)))\n",
    "XTX = X1.T.dot(X1)\n",
    "b = np.linalg.inv(XTX).dot(X1.T).dot(Y)\n",
    "print('Коэффициенты по формуле МНК:','b1 -', b[1], 'b0 -', b[0])\n",
    "print('Коэффициенты по формуле парной регрессии:','b1 -', b1, 'b0 -', b0)"
   ]
  },
  {
   "cell_type": "markdown",
   "metadata": {},
   "source": [
    "### 2."
   ]
  },
  {
   "cell_type": "code",
   "execution_count": 80,
   "metadata": {
    "scrolled": true
   },
   "outputs": [
    {
     "data": {
      "image/png": "[encoded data removed]",
      "text/plain": [
       "<Figure size 432x288 with 1 Axes>"
      ]
     },
     "metadata": {
      "needs_background": "light"
     },
     "output_type": "display_data"
    }
   ],
   "source": [
    "plt.scatter(X, Y);\n",
    "plt.plot(X, X1.dot(b), color='r');"
   ]
  },
  {
   "cell_type": "markdown",
   "metadata": {},
   "source": [
    "### 3."
   ]
  },
  {
   "cell_type": "code",
   "execution_count": 79,
   "metadata": {},
   "outputs": [
    {
     "name": "stdout",
     "output_type": "stream",
     "text": [
      "коэффициент детерминации: 0.7876386635293701 средняя ошибка аппроксимации: 0.11469251843561715\n"
     ]
    }
   ],
   "source": [
    "Z = b[0] + b[1] * X\n",
    "R2 = Z.var() / Y.var()\n",
    "A = sum(abs((Y - Z)/Y))/len(X)\n",
    "print('коэффициент детерминации:', R2, 'средняя ошибка аппроксимации:', A)"
   ]
  },
  {
   "cell_type": "markdown",
   "metadata": {},
   "source": [
    "### 4."
   ]
  },
  {
   "cell_type": "code",
   "execution_count": 86,
   "metadata": {},
   "outputs": [
    {
     "name": "stdout",
     "output_type": "stream",
     "text": [
      "Уравнение регресси статистически значимо Т: 29.671640859664766\n"
     ]
    }
   ],
   "source": [
    "T = (R2 / (1 - R2)) * ((len(X) - 1 - 1) / 1)\n",
    "if T > scipy.stats.f.ppf(0.95, 1, len(X) - 1 - 1):\n",
    "    print('Уравнение регресси статистически значимо', 'Т:', T)\n",
    "else:\n",
    "    print('Уравнение регрессии статистически не значимо')"
   ]
  },
  {
   "cell_type": "markdown",
   "metadata": {},
   "source": [
    "### 5."
   ]
  },
  {
   "cell_type": "code",
   "execution_count": 114,
   "metadata": {},
   "outputs": [
    {
     "name": "stdout",
     "output_type": "stream",
     "text": [
      "доверительный интервал для b1: 1.5486196143247526 3.6924581504807845\n",
      "доверительный интервал для b0: 318.3621602973026 569.9925543514157\n"
     ]
    }
   ],
   "source": [
    "alfa = 0.05\n",
    "S_slope = np.sqrt((sum((Y - Z)**2)/(len(X) - 2)) / (sum((X - X.mean())**2)))\n",
    "t = scipy.stats.t.ppf(1 - alfa/2, df=10)\n",
    "print('доверительный интервал для b1:', b[1] - t * S_slope, b[1] + t * S_slope)\n",
    "S_inter = S_slope * np.sqrt(sum(X**2)/len(X))\n",
    "print('доверительный интервал для b0:', b[0] - t * S_inter, b[0] + t * S_inter)"
   ]
  },
  {
   "cell_type": "markdown",
   "metadata": {},
   "source": [
    "### Задача 2\n",
    "\n",
    "Допустим, первые 5 клиентов из предыдущего задания проживают в Москве, а остальные - в Санкт-Петербурге. Влияет ли этот фактор на значение их кредитного скоринга?"
   ]
  },
  {
   "cell_type": "code",
   "execution_count": 136,
   "metadata": {},
   "outputs": [
    {
     "data": {
      "text/plain": [
       "True"
      ]
     },
     "execution_count": 136,
     "metadata": {},
     "output_type": "execute_result"
    }
   ],
   "source": [
    "Moscow_score = Y[:5].mean()\n",
    "Saint_P_score = Y[5:].mean()\n",
    "S_F = ((Moscow_score - Y.mean())**2 * 5) + ((Saint_P_score - Y.mean())**2 * 5)\n",
    "S_res = ((Y[:5] - Moscow_score)**2).sum() + ((Y[5:] - Saint_P_score)**2).sum()\n",
    "np.round(S_F + S_res, decimals=7) == np.round(((Y - Y.mean())**2).sum(), decimals=7)"
   ]
  },
  {
   "cell_type": "code",
   "execution_count": 140,
   "metadata": {},
   "outputs": [
    {
     "data": {
      "text/plain": [
       "(7.57088209969174, 1.2650596914169643)"
      ]
     },
     "execution_count": 140,
     "metadata": {},
     "output_type": "execute_result"
    }
   ],
   "source": [
    "sigma_F = S_F / 1\n",
    "sigma_res = S_res / 8\n",
    "T_ = sigma_F / sigma_res\n",
    "scipy.stats.f.ppf(1 - 0.05/2, 1, 8), T_"
   ]
  },
  {
   "cell_type": "markdown",
   "metadata": {},
   "source": [
    "#### Поскольку значение статистики меньше чем критическое значение Фишера, мы заключаем, что фактор не влияет на целевую переменную."
   ]
  },
  {
   "cell_type": "markdown",
   "metadata": {},
   "source": [
    "### Задача 3\n",
    "\n",
    "Посчитать коэффициенты линейной регрессии для т.н. Квартета Энскомба (см. урок 6)."
   ]
  },
  {
   "cell_type": "code",
   "execution_count": 176,
   "metadata": {},
   "outputs": [
    {
     "name": "stdout",
     "output_type": "stream",
     "text": [
      "Коэффициенты по признаку Х1:\n",
      "3.0000909090909245\n",
      "0.5000909090909076\n",
      "Коэффициенты по признаку Х2:\n",
      "3.000909090909091\n",
      "0.5\n",
      "Коэффициенты по признаку Х3:\n",
      "3.0024545454545697\n",
      "0.49972727272727013\n",
      "Коэффициенты по признаку Х4:\n",
      "3.0017272727272584\n",
      "0.4999090909090924\n"
     ]
    }
   ],
   "source": [
    "Escombe_set = pd.read_csv('anscombe_dataset.csv', index_col = 'id')\n",
    "\n",
    "B1_x1 = ((Escombe_set['x1'] * Escombe_set['y1']).mean() - Escombe_set['x1'].mean() * Escombe_set['y1'].mean()) / ((Escombe_set['x1']**2).mean() - (Escombe_set['x1'].mean()**2))\n",
    "B0_x1 = Escombe_set['y1'].mean() - B1_x1 * Escombe_set['x1'].mean()\n",
    "\n",
    "B1_x2 = ((Escombe_set['x2'] * Escombe_set['y2']).mean() - Escombe_set['x2'].mean() * Escombe_set['y2'].mean()) / ((Escombe_set['x2']**2).mean() - (Escombe_set['x2'].mean()**2))\n",
    "B0_x2 = Escombe_set['y2'].mean() - B1_x2 * Escombe_set['x2'].mean()\n",
    "\n",
    "B1_x3 = ((Escombe_set['x3'] * Escombe_set['y3']).mean() - Escombe_set['x3'].mean() * Escombe_set['y3'].mean()) / ((Escombe_set['x3']**2).mean() - (Escombe_set['x3'].mean()**2))\n",
    "B0_x3 = Escombe_set['y3'].mean() - B1_x3 * Escombe_set['x3'].mean()\n",
    "\n",
    "B1_x4 = ((Escombe_set['x4'] * Escombe_set['y4']).mean() - Escombe_set['x4'].mean() * Escombe_set['y4'].mean()) / ((Escombe_set['x4']**2).mean() - (Escombe_set['x4'].mean()**2))\n",
    "B0_x4 = Escombe_set['y4'].mean() - B1_x4 * Escombe_set['x4'].mean()\n",
    "\n",
    "print('Коэффициенты по признаку Х1:', B0_x1, B1_x1, 'Коэффициенты по признаку Х2:', B0_x2, B1_x2, \n",
    "      'Коэффициенты по признаку Х3:', B0_x3, B1_x3, 'Коэффициенты по признаку Х4:', B0_x4, B1_x4, sep='\\n')"
   ]
  },
  {
   "cell_type": "markdown",
   "metadata": {},
   "source": [
    "#### Я просто взял и подставил данные из датасета в формулу парной регресси из первой задачи, надеюсь я не ошибся)"
   ]
  }
 ],
 "metadata": {
  "kernelspec": {
   "display_name": "Python 3",
   "language": "python",
   "name": "python3"
  },
  "language_info": {
   "codemirror_mode": {
    "name": "ipython",
    "version": 3
   },
   "file_extension": ".py",
   "mimetype": "text/x-python",
   "name": "python",
   "nbconvert_exporter": "python",
   "pygments_lexer": "ipython3",
   "version": "3.7.3"
  }
 },
 "nbformat": 4,
 "nbformat_minor": 2
}
