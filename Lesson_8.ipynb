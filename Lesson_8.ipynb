{
 "cells": [
  {
   "cell_type": "code",
   "execution_count": 74,
   "metadata": {},
   "outputs": [],
   "source": [
    "import numpy as np\n",
    "import scipy"
   ]
  },
  {
   "cell_type": "markdown",
   "metadata": {},
   "source": [
    "### Задача 1\n",
    "\n",
    "Объясняемая переменная y зависит от двух категориальных факторов A и B, причём фактор A имеет 3 уровня, а фактор B - 4 уровня. Результаты наблюдений приведены в таблице:\n",
    "\n",
    "y = [[2.68, 3.29, 2.88, 4.45],                                                                                     \n",
    "               [4.12, 4.96, 5.09, 5.22],                                                                                  \n",
    "                [5.52, 4.50, 5.42, 5.29]]                                                                                     \n",
    "С помощью двухфакторного дисперсионного анализа проверьте влияние каждого из факторов на переменную y."
   ]
  },
  {
   "cell_type": "code",
   "execution_count": 89,
   "metadata": {},
   "outputs": [],
   "source": [
    "y = np.array([[2.68, 3.29, 2.88, 4.45],\n",
    "              [4.12, 4.96, 5.09, 5.22],\n",
    "              [5.52, 4.50, 5.42, 5.29]])\n",
    "rows = y.shape[0]\n",
    "cols = y.shape[1]\n",
    "\n",
    "S2_A = cols * ((y[0].mean() - y.mean())**2 + (y[1].mean() - y.mean())**2 + (y[2].mean() - y.mean())**2) \n",
    "S2_B = rows * sum((y.T[0] - y.mean())**2 + (y.T[1] - y.mean())**2 + (y.T[2] - y.mean())**2 + (y.T[3] - y.mean())**2)\n",
    "S2_res = 0\n",
    "for i in range(rows):\n",
    "    for j in range(cols):\n",
    "        S2_res += sum((y - y[i].mean() - y.T[:][j].mean() + y.mean())**2)\n",
    "S2_res = sum(S2_res)\n",
    "\n",
    "sigma_A = S2_A / (rows - 1)\n",
    "sigma_B = S2_B / (cols - 1)\n",
    "sigma_res = S2_res / ((rows - 1) * (cols - 1))\n",
    "T_A = sigma_A / sigma_res\n",
    "T_B = sigma_B / sigma_res"
   ]
  },
  {
   "cell_type": "code",
   "execution_count": 90,
   "metadata": {},
   "outputs": [
    {
     "name": "stdout",
     "output_type": "stream",
     "text": [
      "Гипотеза H0_A не отвергается\n",
      "Гипотеза H0_B не отвергается\n"
     ]
    }
   ],
   "source": [
    "n = y.shape[0] * y.shape[1]\n",
    "F_crit_A = scipy.stats.f.ppf(0.95, rows - 1, n - rows)\n",
    "F_crit_B = scipy.stats.f.ppf(0.95, cols - 1, n - cols)\n",
    "if T_A > F_crit_A:\n",
    "    print('Гипотеза H0_A отвергается')\n",
    "else:\n",
    "    print('Гипотеза H0_A не отвергается')\n",
    "\n",
    "if T_B > F_crit_B:\n",
    "    print('Гипотеза H0_B отвергается')\n",
    "else:\n",
    "    print('Гипотеза H0_B не отвергается')"
   ]
  },
  {
   "cell_type": "markdown",
   "metadata": {},
   "source": [
    "### Задача 2\n",
    "\n",
    "С помощью критерия Стьюдента для двух независимых выборок проверьте гипотезу о равенстве среднего роста футболистов и хоккеистов, основываясь на результатах измерений:\n",
    "\n",
    "football_players = [173, 175, 180, 178, 177, 185, 183, 182]                                                         \n",
    "hockey_players = [177, 179, 180, 188, 177, 172, 171, 184, 180]"
   ]
  },
  {
   "cell_type": "code",
   "execution_count": 99,
   "metadata": {},
   "outputs": [
    {
     "name": "stdout",
     "output_type": "stream",
     "text": [
      "Гипотеза H_0 не отвергается\n"
     ]
    }
   ],
   "source": [
    "football_players = np.array([173, 175, 180, 178, 177, 185, 183, 182])\n",
    "hockey_players = np.array([177, 179, 180, 188, 177, 172, 171, 184, 180])\n",
    "\n",
    "sigma2_F = sum((football_players - football_players.mean())**2) / (len(football_players) - 1)\n",
    "sigma2_H = sum((hockey_players - hockey_players.mean())**2) / (len(hockey_players) - 1)\n",
    "T = (football_players.mean() - hockey_players.mean()) / np.sqrt(sigma2_F / len(football_players) + sigma2_H / len(hockey_players))\n",
    "if T > scipy.stats.t.ppf(0.95, len(football_players) + len(hockey_players) - 2):\n",
    "    print('Гипотеза H_0 отвергается')\n",
    "else:\n",
    "    print('Гипотеза H_0 не отвергается')"
   ]
  }
 ],
 "metadata": {
  "kernelspec": {
   "display_name": "Python 3",
   "language": "python",
   "name": "python3"
  },
  "language_info": {
   "codemirror_mode": {
    "name": "ipython",
    "version": 3
   },
   "file_extension": ".py",
   "mimetype": "text/x-python",
   "name": "python",
   "nbconvert_exporter": "python",
   "pygments_lexer": "ipython3",
   "version": "3.7.3"
  }
 },
 "nbformat": 4,
 "nbformat_minor": 2
}
