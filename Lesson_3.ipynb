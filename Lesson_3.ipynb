{
 "cells": [
  {
   "cell_type": "code",
   "execution_count": 105,
   "metadata": {},
   "outputs": [],
   "source": [
    "import numpy as np\n",
    "import pandas as pd\n",
    "import math\n",
    "import matplotlib.pyplot as plt"
   ]
  },
  {
   "cell_type": "markdown",
   "metadata": {},
   "source": [
    "### Задача 1\n",
    "\n",
    "Даны значения зарплат из выборки выпускников:\n",
    "\n",
    "100, 80, 75, 77, 89, 33, 45, 25, 65, 17, 30, 230, 24, 57, 55, 70, 75, 65, 84, 90, 150\n",
    "\n",
    "Своими руками (т.е. без использования статистических функций вроде mean, std, var) посчитать среднее арифметическое, смещённую и несмещённую оценки дисперсии, среднее квадратичное отклонение для данной выборки.\n",
    "\n",
    "Можно затем посчитать те же значения с использованием статистических функций, чтобы проверить себя."
   ]
  },
  {
   "cell_type": "code",
   "execution_count": 45,
   "metadata": {},
   "outputs": [],
   "source": [
    "data = np.array([100, 80, 75, 77, 89, 33, 45, 25, 65, 17, 30, 230, 24, 57, 55, 70, 75, 65, 84, 90, 150])\n",
    "mean = sum(data) / len(data)\n",
    "off_var = (sum((data - mean)**2)) / len(data)\n",
    "non_off_var = (sum((data - mean)**2)) / (len(data)-1)\n",
    "std_ = np.sqrt(off_var)"
   ]
  },
  {
   "cell_type": "code",
   "execution_count": 52,
   "metadata": {},
   "outputs": [
    {
     "name": "stdout",
     "output_type": "stream",
     "text": [
      " среднее арифметическое: 73.14285714285714 \n",
      " смещенная дисперсия: 2135.074829931973 \n",
      " несмещенная дисперсия: 2241.8285714285716 \n",
      " среднее квадратичное отклонение: 46.20686994302874\n"
     ]
    }
   ],
   "source": [
    "print(f' среднее арифметическое: {mean} \\n смещенная дисперсия: {off_var} \\n несмещенная дисперсия: {non_off_var} \\n среднее квадратичное отклонение: {std_}')"
   ]
  },
  {
   "cell_type": "markdown",
   "metadata": {},
   "source": [
    "### Задача 2\n",
    "\n",
    "Для выборки из задачи 1 найти (также без использования статистических функций) медиану, первый и третий квартили, интерквартильное расстояние. Найти выбрoсы в выборке, используя для этого \"усы\" из boxplot.\n",
    "\n",
    "В этой задаче неоднозначности в вычислении квантилей можно разрешать любым способом."
   ]
  },
  {
   "cell_type": "code",
   "execution_count": 99,
   "metadata": {},
   "outputs": [
    {
     "name": "stdout",
     "output_type": "stream",
     "text": [
      " медиана: 70 \n",
      " первый квартиль: 45 \n",
      " третий квартиль: 84 \n",
      " интерквартильное расстояние: [45, 55, 57, 65, 65, 70, 75, 75, 77, 80]\n"
     ]
    }
   ],
   "source": [
    "mediana = sorted(data)[len(sdata)//2]\n",
    "first_quarter = sorted(data)[sorted(data).index(mediana) // 2]\n",
    "third_quarter = sorted(data)[sorted(data).index(first_quarter) * 3]\n",
    "inter_quarter = sorted(data)[sorted(data).index(first_quarter):sorted(data).index(third_quarter)]\n",
    "print(f' медиана: {mediana} \\n первый квартиль: {first_quarter} \\n третий квартиль: {third_quarter} \\n интерквартильное расстояние: {inter_quarter}')"
   ]
  },
  {
   "cell_type": "code",
   "execution_count": 119,
   "metadata": {},
   "outputs": [
    {
     "data": {
      "image/png": "[encoded data removed]",
      "text/plain": [
       "<Figure size 432x288 with 1 Axes>"
      ]
     },
     "metadata": {
      "needs_background": "light"
     },
     "output_type": "display_data"
    }
   ],
   "source": [
    "pd_data = pd.DataFrame(data)\n",
    "pd_data.boxplot();"
   ]
  },
  {
   "cell_type": "code",
   "execution_count": 133,
   "metadata": {},
   "outputs": [
    {
     "name": "stdout",
     "output_type": "stream",
     "text": [
      "выбросы в данной выборке: [230, 150]\n"
     ]
    }
   ],
   "source": [
    "outliers = []\n",
    "for i in data:\n",
    "    if (i < first_quarter - (1.5 * (third_quarter - first_quarter))) or (i > third_quarter + (1.5 * (third_quarter - first_quarter))):\n",
    "        outliers.append(i)\n",
    "print('выбросы в данной выборке:', outliers)"
   ]
  },
  {
   "cell_type": "markdown",
   "metadata": {},
   "source": [
    "### Задача 3\n",
    "\n",
    "В университет на факультеты A и B поступило равное количество студентов, а на факультет C студентов поступило столько же, сколько на A и B вместе. Вероятность того, что студент факультета A сдаст первую сессию, равна 0.8. Для студента факультета B эта вероятность равна 0.7, а для студента факультета C - 0.9. Студент сдал первую сессию. Какова вероятность, что он учится: a) на факультете A? б) на факультете B? в) на факультете C?\n",
    "\n",
    "Замечание: да, эта задача не на тему описательных статистик, но тема важная, и её стоит иногда освежать в памяти."
   ]
  },
  {
   "cell_type": "markdown",
   "metadata": {},
   "source": [
    "#### Предположим, что в факультеты A и B поступили по 100 студентов, а в факультет C 200.  Будем вычислять значения по формуле Байеса.\n",
    "$$$$\n",
    "\n",
    "$$ P(S|A) = 0.8 $$\n",
    "\n",
    "$$ P(S|B) = 0.7 $$\n",
    "\n",
    "$$ P(S|C) = 0.9 $$\n",
    "\n",
    "$$ P(A|S) = \\dfrac{P(S|A)P(A)}{P(S)} \\ \\ => \\ \\ \\dfrac{0.8 * \\dfrac{1}{4}}{0.8 * \\dfrac{1}{4} + 0.7 * \\dfrac{1}{4} + 0.9 * \\dfrac{2}{4}} = 0.09195402298850576 $$\n",
    "$$$$\n",
    "$$ P(B|S) = \\dfrac{P(S|B)P(B)}{P(S)} \\ \\ => \\ \\ \\dfrac{0.7 * \\dfrac{1}{4}}{0.8 * \\dfrac{1}{4} + 0.7 * \\dfrac{1}{4} + 0.9 * \\dfrac{2}{4}} = 0.08045977011494253 $$\n",
    "$$$$\n",
    "$$ P(C|S) = \\dfrac{P(S|C)P(C)}{P(S)} \\ \\ => \\ \\ \\dfrac{0.9 * \\dfrac{2}{4}}{0.8 * \\dfrac{1}{4} + 0.7 * \\dfrac{1}{4} + 0.9 * \\dfrac{2}{4}} = 0.8275862068965518 $$"
   ]
  }
 ],
 "metadata": {
  "kernelspec": {
   "display_name": "Python 3",
   "language": "python",
   "name": "python3"
  },
  "language_info": {
   "codemirror_mode": {
    "name": "ipython",
    "version": 3
   },
   "file_extension": ".py",
   "mimetype": "text/x-python",
   "name": "python",
   "nbconvert_exporter": "python",
   "pygments_lexer": "ipython3",
   "version": "3.7.3"
  }
 },
 "nbformat": 4,
 "nbformat_minor": 2
}
