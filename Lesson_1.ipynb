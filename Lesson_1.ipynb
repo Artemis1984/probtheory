{
 "cells": [
  {
   "cell_type": "code",
   "execution_count": 61,
   "metadata": {},
   "outputs": [],
   "source": [
    "import itertools\n",
    "import numpy as np\n",
    "import math"
   ]
  },
  {
   "cell_type": "markdown",
   "metadata": {},
   "source": [
    "### Задача 1\n",
    "Из колоды в 52 карты вынимают случайным образом 4 карты. Найти число исходов, соответствующих тому, что был вытянут хотя бы один туз."
   ]
  },
  {
   "cell_type": "code",
   "execution_count": 62,
   "metadata": {},
   "outputs": [
    {
     "data": {
      "text/latex": [
       "$$ C_4^1 * C_{48}^3 + C_4^2 * C_{48}^2 + C_4^3 * C_{48}^1 + C_4^4 * 1 = 76145 $$\n"
      ],
      "text/plain": [
       "<IPython.core.display.Latex object>"
      ]
     },
     "metadata": {},
     "output_type": "display_data"
    }
   ],
   "source": [
    "%%latex\n",
    "$$ C_4^1 * C_{48}^3 + C_4^2 * C_{48}^2 + C_4^3 * C_{48}^1 + C_4^4 * 1 = 76145 $$\n"
   ]
  },
  {
   "cell_type": "code",
   "execution_count": 63,
   "metadata": {},
   "outputs": [
    {
     "data": {
      "text/plain": [
       "76145"
      ]
     },
     "execution_count": 63,
     "metadata": {},
     "output_type": "execute_result"
    }
   ],
   "source": [
    "len(list(itertools.combinations(range(1, 5), 1))) * len(list(itertools.combinations(range(1, 49), 3))) + \\\n",
    "    len(list(itertools.combinations(range(1, 5), 2))) * len(list(itertools.combinations(range(1, 49), 2))) + \\\n",
    "    len(list(itertools.combinations(range(1, 5), 3))) * len(list(itertools.combinations(range(1, 49), 1))) + \\\n",
    "    len(list(itertools.combinations(range(1, 5), 4))) * 1"
   ]
  },
  {
   "cell_type": "code",
   "execution_count": 64,
   "metadata": {},
   "outputs": [
    {
     "data": {
      "text/plain": [
       "76145.0"
      ]
     },
     "execution_count": 64,
     "metadata": {},
     "output_type": "execute_result"
    }
   ],
   "source": [
    "(math.factorial(4)/(1 * math.factorial(3))) * (math.factorial(48)/(math.factorial(3) * math.factorial(45))) + \\\n",
    "    (math.factorial(4)/(2 * math.factorial(2))) * (math.factorial(48)/(math.factorial(2) * math.factorial(46))) + \\\n",
    "    (math.factorial(4)/(math.factorial(3) * 1)) * (math.factorial(48)/(math.factorial(1) * math.factorial(47))) + \\\n",
    "    (math.factorial(4)/(math.factorial(4) * 1)) * (math.factorial(48)/(math.factorial(0) * math.factorial(48)))"
   ]
  },
  {
   "cell_type": "markdown",
   "metadata": {},
   "source": [
    "#### В задаче требуется найти комбинации, в которых может быть хотя бы один туз, ну тогда можно достать все 4 туза из колоды и считать сумму всех комбинаций с ними. Когда есть 1 туз и 3 других, 2 туза и 2 других, 3 туза и одна другая карта и еще 4 туза. Выше есть 2 варианта вычисления."
   ]
  },
  {
   "cell_type": "markdown",
   "metadata": {},
   "source": [
    "### Задача 2\n",
    "Семь человек рассаживаются наудачу на скамейке. Какова вероятность того, что рядом будут сидеть: а) два определённых человека? б) три определённых человека?"
   ]
  },
  {
   "cell_type": "markdown",
   "metadata": {},
   "source": [
    "#### Ну раз 2 определенных человека должны сисеть рядом, то мы можем считать этих двоих за одного, то есть в знаменатель записываем общее число перестановок для 7 человек, а в числитель запишем число перестановок одним человеком меньше, а для  3 человек на 2 человека меньше."
   ]
  },
  {
   "cell_type": "code",
   "execution_count": 86,
   "metadata": {},
   "outputs": [
    {
     "name": "stdout",
     "output_type": "stream",
     "text": [
      "a) 0.2857142857142857\n",
      "б) 0.14285714285714285\n"
     ]
    }
   ],
   "source": [
    "print('a)', (math.factorial(2) * math.factorial(6)) / math.factorial(7))\n",
    "print('б)', (math.factorial(3) * math.factorial(5)) / math.factorial(7))"
   ]
  },
  {
   "cell_type": "markdown",
   "metadata": {},
   "source": [
    "#### Здесь мы видим, что при увелечении количества людей сидящих рядом вероятность уменьшается в двое."
   ]
  },
  {
   "cell_type": "markdown",
   "metadata": {},
   "source": [
    "### Задача 3\n",
    "\n",
    "Из 60 вопросов, входящих в экзаменационные билеты, студент знает 50. Какова вероятность того, что среди трёх наугад выбранных вопросов студент знает: а) все? б) два?"
   ]
  },
  {
   "cell_type": "markdown",
   "metadata": {},
   "source": [
    "#### Здесь я отношусь к билетам как к шарикам скажем 10 черных (которые студент не знает) и 50 белых (которые студент знает). Нам нужно вычислить вероятность того, что студент вытащит из мешка 3 белых шарика подряд. Это отношение сочетаний С из 50 по 3 делим на С из 60 по 3, а во втором случае умножаем С из 50 по 2 на С из 10 по 1 и все это делим на С из 60 по 3. То есть мы посчитали отношение благополучных событий ко всем событиям."
   ]
  },
  {
   "cell_type": "code",
   "execution_count": 103,
   "metadata": {},
   "outputs": [
    {
     "name": "stdout",
     "output_type": "stream",
     "text": [
      "a) вероятность, что студент знает все 3: 0.5727644652250146\n",
      "б) вероятность, что студент знает 2: 0.35797779076563413\n"
     ]
    }
   ],
   "source": [
    "print('a) вероятность, что студент знает все 3:', (len(list(itertools.combinations(range(1, 51), 3))) / len(list(itertools.combinations(range(1, 61), 3))))) \n",
    "print('б) вероятность, что студент знает 2:', (len(list(itertools.combinations(range(1, 51), 2))) * len(list(itertools.combinations(range(1, 11), 1)))) / len(list(itertools.combinations(range(1, 61), 3))))"
   ]
  },
  {
   "cell_type": "markdown",
   "metadata": {},
   "source": [
    "### Задача 4\n",
    "\n",
    "Бросается игральная кость. Пусть событие A - появление чётного числа, событие B - появление числа больше трёх. Являются ли эти события независимыми?"
   ]
  },
  {
   "cell_type": "markdown",
   "metadata": {},
   "source": [
    "#### Нет, они зависмы, так как не выполняется данное условие: P(A | B) * P(B) = P(A).  Вероятность события А равна 1/2, но когда выполнено условие B, вероятность события А повышается - 2/3, ровно также и в обратном случае, если посмотреть вероятность B при условии А. Это доказывает, что они зависимы."
   ]
  },
  {
   "cell_type": "markdown",
   "metadata": {},
   "source": [
    "### Задача 5\n",
    "\n",
    "Допустим, имеется некоторая очень редкая болезнь (поражает 0.1% населения). Вы приходите к врачу, вам делают тест на эту болезнь, и тест оказывается положительным. Врач говорит вам, что этот тест верно выявляет 99% больных этой болезнью и всего лишь в 1% случаев даёт ложный положительный ответ.\n",
    "\n",
    "Вопрос: какова вероятность, что вы действительно больны ей?\n",
    "\n",
    "Подсказка: вновь используйте формулу Байеса с раскрытием знаменателя с помощью формулы полной вероятности."
   ]
  }
 ],
 "metadata": {
  "kernelspec": {
   "display_name": "Python 3",
   "language": "python",
   "name": "python3"
  },
  "language_info": {
   "codemirror_mode": {
    "name": "ipython",
    "version": 3
   },
   "file_extension": ".py",
   "mimetype": "text/x-python",
   "name": "python",
   "nbconvert_exporter": "python",
   "pygments_lexer": "ipython3",
   "version": "3.7.3"
  }
 },
 "nbformat": 4,
 "nbformat_minor": 2
}
