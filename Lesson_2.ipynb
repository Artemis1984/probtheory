{
 "cells": [
  {
   "cell_type": "code",
   "execution_count": 1,
   "metadata": {},
   "outputs": [],
   "source": [
    "import itertools\n",
    "import numpy as np\n",
    "import math"
   ]
  },
  {
   "cell_type": "markdown",
   "metadata": {},
   "source": [
    "### Задача 1\n",
    "\n",
    "Контрольная работа состоит из пяти вопросов. На каждый вопрос приведено четыре варианта ответа, один из которых правильный. Составьте закон распределения числа правильных ответов при простом угадывании. Найдите M(X), D(X)."
   ]
  },
  {
   "cell_type": "markdown",
   "metadata": {},
   "source": [
    "<table border=\"3\">\n",
    "<tr><th>X</th><td> </td><td>0</td><td>1</td><td>2</td><td>3</td><td>4</td><td>5</td></tr>\n",
    "<tr><th>p</th><td> </td><td>0.237</td><td>0.079</td><td>0.026</td><td>0.009</td><td>0.003</td><td>0.001</td></tr>\n",
    "</table>"
   ]
  },
  {
   "cell_type": "markdown",
   "metadata": {},
   "source": [
    "$$M(X) = \\sum_{i=1}^5 X_i * p_i = 0.175 $$\n",
    "\\\n",
    "$$ D(X) = M((X - M(X))^2) = 0.287 $$"
   ]
  },
  {
   "cell_type": "markdown",
   "metadata": {},
   "source": [
    "### Задача 2\n",
    "\n",
    "Вероятность попадания в цель при одном выстреле равна 0.01. Какова вероятность того, что число попаданий при 200 выстрелах будет не менее 5 и не более 10?"
   ]
  },
  {
   "cell_type": "code",
   "execution_count": 2,
   "metadata": {},
   "outputs": [
    {
     "data": {
      "text/plain": [
       "0.0535510658564858"
      ]
     },
     "execution_count": 2,
     "metadata": {},
     "output_type": "execute_result"
    }
   ],
   "source": [
    "n = 201\n",
    "p = 0.01\n",
    "sum_ = 0\n",
    "a = n*p\n",
    "for i in range(5, 11):\n",
    "    sum_ += (a ** i * math.e ** (-a)) / math.factorial(i)\n",
    "sum_"
   ]
  },
  {
   "cell_type": "markdown",
   "metadata": {},
   "source": [
    "#### Здесь 1 решил применить формулу Пуассона, так как значение вероятности очень мало, а число испытаний много, в итоге я просуммировал все вероятности от 5 до 10 попаданий, чтобы вычислисть требуемую вероятность в данном промежутке."
   ]
  },
  {
   "cell_type": "markdown",
   "metadata": {},
   "source": [
    "### Задача 3\n",
    "\n",
    "В условиях предыдущей задачи сколько выстрелов нужно сделать чтобы быть уверенным с вероятностью 0.9, что хотя бы 10 раз будет совершено попадание?\n",
    "\n",
    "Подсказка. Как посчитать P(X >= k) для величины X, имеющей распределение Пуассона? Здесь предстоит немножко покодить."
   ]
  },
  {
   "cell_type": "code",
   "execution_count": 51,
   "metadata": {},
   "outputs": [
    {
     "name": "stdout",
     "output_type": "stream",
     "text": [
      "Ответ: 1421 выстрелов, вероятность 0.9001767463224912\n"
     ]
    }
   ],
   "source": [
    "p = 0.01\n",
    "flag = True\n",
    "for n in range(201, 1500):\n",
    "    sum_ = 0\n",
    "    a = n*p\n",
    "    for i in range(1, 10):\n",
    "        sum_ += (a ** i * math.e ** (-a)) / math.factorial(i)\n",
    "    if(1-sum_)>= 0.9:\n",
    "        print('Ответ:', n, 'выстрелов,','вероятность', (1-sum_))\n",
    "        flag = False\n",
    "    if not(flag):\n",
    "        break\n",
    "    "
   ]
  },
  {
   "cell_type": "markdown",
   "metadata": {},
   "source": [
    "#### Здесь я решил вычислить обратную вероятность, ну код говорит сам за себя) Надеюсь я правильно понял суть задания и ответ соответственно тоже правильный)"
   ]
  },
  {
   "cell_type": "code",
   "execution_count": null,
   "metadata": {},
   "outputs": [],
   "source": []
  }
 ],
 "metadata": {
  "kernelspec": {
   "display_name": "Python 3",
   "language": "python",
   "name": "python3"
  },
  "language_info": {
   "codemirror_mode": {
    "name": "ipython",
    "version": 3
   },
   "file_extension": ".py",
   "mimetype": "text/x-python",
   "name": "python",
   "nbconvert_exporter": "python",
   "pygments_lexer": "ipython3",
   "version": "3.7.3"
  }
 },
 "nbformat": 4,
 "nbformat_minor": 2
}
